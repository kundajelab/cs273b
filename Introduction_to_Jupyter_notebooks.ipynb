{
 "cells": [
  {
   "cell_type": "markdown",
   "metadata": {},
   "source": [
    "# Introduction to Jupyter notebooks #\n",
    "## (Formerly known as IPython notebooks) ##"
   ]
  },
  {
   "cell_type": "markdown",
   "metadata": {},
   "source": [
    "The IPython Notebook is now known as the Jupyter Notebook. It is an interactive computational environment, in which you can combine code execution, rich text, mathematics, plots and rich media. For more details on the Jupyter Notebook, please see the [Jupyter](http://jupyter.org/) website."
   ]
  },
  {
   "cell_type": "markdown",
   "metadata": {},
   "source": [
    "A Jupyter notebook (like this one) is a web-based interface allows you to execute Python and IPython commands in each input cell. You can also save an entire session as a document in a file with the .ipynb extension."
   ]
  },
  {
   "cell_type": "markdown",
   "metadata": {},
   "source": [
    "## Cells##"
   ]
  },
  {
   "cell_type": "markdown",
   "metadata": {},
   "source": [
    "* Text cells can be written using [Markdown syntax](http://markdown-guide.readthedocs.io/en/latest/basics.html) (Click on Cell -> Cell Type -> Markdown)\n",
    "* Code cells take IPython input (i.e. Python code, %magics, !system calls, etc) like IPython at the terminal"
   ]
  },
  {
   "cell_type": "markdown",
   "metadata": {},
   "source": [
    "In order to execute a cell, you must use **Shift-Enter**, as pressing Enter will add a new line of text to the cell. When you type  **Shift-Enter**, the cell content is executed, output displayed and a new cell is created below. Try it now by putting your cursor on the next cell and typing **Shift-Enter**:"
   ]
  },
  {
   "cell_type": "code",
   "execution_count": null,
   "metadata": {},
   "outputs": [],
   "source": [
    "echo \"Hello World\""
   ]
  },
  {
   "cell_type": "markdown",
   "metadata": {},
   "source": [
    "You can re-execute the same cell over and over as many times as you want. Simply put your cursor in the cell again, edit at will, and type Shift-Enter to execute."
   ]
  },
  {
   "cell_type": "markdown",
   "metadata": {},
   "source": [
    "Tip: A cell can also be executed in-place, where IPython executes its content but leaves the cursor in the same cell. This is done by typing Ctrl-Enter instead, and is useful if you want to quickly run a command to check something before tping the real content you want to leave in the cell. For example, in the next cell, try issuing several system commands in-place with Ctrl-Enter, such as pwd (the command that lists the current directory) and then ls (a command that gives you the contents of your current directory):"
   ]
  },
  {
   "cell_type": "code",
   "execution_count": null,
   "metadata": {},
   "outputs": [],
   "source": [
    "ls"
   ]
  },
  {
   "cell_type": "markdown",
   "metadata": {},
   "source": [
    "In a cell, you can type anything from a single python expression to an arbitrarily long amount of code (although for reasons of readability, you should probably limit this to a few dozen lines):"
   ]
  },
  {
   "cell_type": "code",
   "execution_count": null,
   "metadata": {},
   "outputs": [],
   "source": [
    "COUNTER=0\n",
    "while [  $COUNTER -lt 10 ]; do\n",
    "    echo The counter is $COUNTER\n",
    "    let COUNTER=COUNTER+1 \n",
    "done\n",
    "         "
   ]
  },
  {
   "cell_type": "markdown",
   "metadata": {},
   "source": [
    "## User interface ##"
   ]
  },
  {
   "cell_type": "markdown",
   "metadata": {
    "collapsed": true
   },
   "source": [
    "Click on **Control Panel** in the top-left corner of this screen. Then click on **My Server**. This will bring you to the dashboard. \n",
    "\n",
    "From the dashboard, you can do one of several things: \n",
    "\n",
    "* Navigate the file system \n",
    "\n",
    "* Create a new notebook \n",
    "\n",
    "* Open a terminal instance\n",
    "\n",
    "![alt text](https://github.com/kundajelab/training_camp/blob/master/images/dashboard.png?raw=true \"Dashboard\")"
   ]
  },
  {
   "cell_type": "markdown",
   "metadata": {},
   "source": [
    "## Kernels ##"
   ]
  },
  {
   "cell_type": "markdown",
   "metadata": {},
   "source": [
    "Under **Notebooks** you are asked to select a kernel to use in creating your notebook. There are 2 options: \n",
    "\n",
    "* Bash -- we will mostly be using this kernel. It allows us to execute command-line shell scripts from inside the notebook\n",
    "* Python3"
   ]
  },
  {
   "cell_type": "markdown",
   "metadata": {},
   "source": [
    "You can always change the kernel that is used to load a notebook by clicking on **Kernel** -> **Change Kernel** in the menu at the top of the notebook. "
   ]
  },
  {
   "cell_type": "markdown",
   "metadata": {},
   "source": [
    "Sometimes, you may find that a command runs longer than you expected, or you generally need to interrupt a cell. \n",
    "You can do this by hitting the black square button (\"interrupt kernel\") at the top of this page. You can also restart a kernel completely, but this will clear outputs from any cells that you have already executed."
   ]
  }
 ],
 "metadata": {
  "kernelspec": {
   "display_name": "Bash",
   "language": "bash",
   "name": "bash"
  },
  "language_info": {
   "codemirror_mode": "shell",
   "file_extension": ".sh",
   "mimetype": "text/x-sh",
   "name": "bash"
  }
 },
 "nbformat": 4,
 "nbformat_minor": 1
}
